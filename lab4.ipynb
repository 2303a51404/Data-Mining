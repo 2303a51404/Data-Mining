{
  "nbformat": 4,
  "nbformat_minor": 0,
  "metadata": {
    "colab": {
      "provenance": [],
      "authorship_tag": "ABX9TyOVJuE5PFNabCKLMADa1T0q",
      "include_colab_link": true
    },
    "kernelspec": {
      "name": "python3",
      "display_name": "Python 3"
    },
    "language_info": {
      "name": "python"
    }
  },
  "cells": [
    {
      "cell_type": "markdown",
      "metadata": {
        "id": "view-in-github",
        "colab_type": "text"
      },
      "source": [
        "<a href=\"https://colab.research.google.com/github/2303a51404/Data-Mining/blob/main/lab4.ipynb\" target=\"_parent\"><img src=\"https://colab.research.google.com/assets/colab-badge.svg\" alt=\"Open In Colab\"/></a>"
      ]
    },
    {
      "cell_type": "code",
      "source": [
        "import pandas as pd\n",
        "from sklearn.preprocessing import LabelEncoder\n",
        "\n",
        "data = pd.read_csv('/content/wine_data.csv')\n",
        "\n",
        "one_hot_encoded = pd.get_dummies(data['quality'], prefix='quality')\n",
        "data = pd.concat([data, one_hot_encoded], axis=1)\n",
        "\n",
        "label_encoder = LabelEncoder()\n",
        "data['quality_label'] = label_encoder.fit_transform(data['quality'])\n",
        "\n",
        "print(\"One-Hot Encoded Data (First 5 Rows):\")\n",
        "print(data.head())"
      ],
      "metadata": {
        "colab": {
          "base_uri": "https://localhost:8080/"
        },
        "id": "qlMT5ikYnM1W",
        "outputId": "b3ea6e3b-4c36-4966-f6c0-4ec53ec23f18"
      },
      "execution_count": 3,
      "outputs": [
        {
          "output_type": "stream",
          "name": "stdout",
          "text": [
            "One-Hot Encoded Data (First 5 Rows):\n",
            "   fixed_acidity  volatile_acidity  citric_acid  residual_sugar  chlorides  \\\n",
            "0           11.6             0.580         0.66            2.20      0.074   \n",
            "1           10.4             0.610         0.49            2.10      0.200   \n",
            "2            7.4             1.185         0.00            4.25      0.097   \n",
            "3           10.4             0.440         0.42            1.50      0.145   \n",
            "4            8.3             1.020         0.02            3.40      0.084   \n",
            "\n",
            "   free_sulfur_dioxide  total_sulfur_dioxide  density    pH  sulphates  \\\n",
            "0                 10.0                  47.0  1.00080  3.25       0.57   \n",
            "1                  5.0                  16.0  0.99940  3.16       0.63   \n",
            "2                  5.0                  14.0  0.99660  3.63       0.54   \n",
            "3                 34.0                  48.0  0.99832  3.38       0.86   \n",
            "4                  6.0                  11.0  0.99892  3.48       0.49   \n",
            "\n",
            "   alcohol  quality  quality_3  quality_4  quality_5  quality_6  quality_7  \\\n",
            "0      9.0        3       True      False      False      False      False   \n",
            "1      8.4        3       True      False      False      False      False   \n",
            "2     10.7        3       True      False      False      False      False   \n",
            "3      9.9        3       True      False      False      False      False   \n",
            "4     11.0        3       True      False      False      False      False   \n",
            "\n",
            "   quality_8  quality_9  quality_label  \n",
            "0      False      False              0  \n",
            "1      False      False              0  \n",
            "2      False      False              0  \n",
            "3      False      False              0  \n",
            "4      False      False              0  \n"
          ]
        }
      ]
    },
    {
      "cell_type": "code",
      "source": [
        "import pandas as pd\n",
        "\n",
        "\n",
        "\n",
        "data['density_to_alcohol'] = data['density'] / data['alcohol']\n",
        "\n",
        "print(\"Data with Derived Column (First 5 Rows):\")\n",
        "print(data.head())"
      ],
      "metadata": {
        "colab": {
          "base_uri": "https://localhost:8080/"
        },
        "id": "FrG0FKVxnMoW",
        "outputId": "cd271ad7-82ad-4958-91e0-6ece3596a41d"
      },
      "execution_count": 4,
      "outputs": [
        {
          "output_type": "stream",
          "name": "stdout",
          "text": [
            "Data with Derived Column (First 5 Rows):\n",
            "   fixed_acidity  volatile_acidity  citric_acid  residual_sugar  chlorides  \\\n",
            "0           11.6             0.580         0.66            2.20      0.074   \n",
            "1           10.4             0.610         0.49            2.10      0.200   \n",
            "2            7.4             1.185         0.00            4.25      0.097   \n",
            "3           10.4             0.440         0.42            1.50      0.145   \n",
            "4            8.3             1.020         0.02            3.40      0.084   \n",
            "\n",
            "   free_sulfur_dioxide  total_sulfur_dioxide  density    pH  sulphates  ...  \\\n",
            "0                 10.0                  47.0  1.00080  3.25       0.57  ...   \n",
            "1                  5.0                  16.0  0.99940  3.16       0.63  ...   \n",
            "2                  5.0                  14.0  0.99660  3.63       0.54  ...   \n",
            "3                 34.0                  48.0  0.99832  3.38       0.86  ...   \n",
            "4                  6.0                  11.0  0.99892  3.48       0.49  ...   \n",
            "\n",
            "   quality  quality_3  quality_4  quality_5  quality_6  quality_7  quality_8  \\\n",
            "0        3       True      False      False      False      False      False   \n",
            "1        3       True      False      False      False      False      False   \n",
            "2        3       True      False      False      False      False      False   \n",
            "3        3       True      False      False      False      False      False   \n",
            "4        3       True      False      False      False      False      False   \n",
            "\n",
            "   quality_9  quality_label  density_to_alcohol  \n",
            "0      False              0            0.111200  \n",
            "1      False              0            0.118976  \n",
            "2      False              0            0.093140  \n",
            "3      False              0            0.100840  \n",
            "4      False              0            0.090811  \n",
            "\n",
            "[5 rows x 21 columns]\n"
          ]
        }
      ]
    },
    {
      "cell_type": "code",
      "source": [
        "grouped_data = data.groupby('quality')['alcohol'].mean()\n",
        "pivot_table = data.pivot_table(values='sulphates', index='quality', columns='citric_acid', aggfunc='mean')\n",
        "\n",
        "print(\"Grouped Data (Average Alcohol by Quality):\")\n",
        "print(grouped_data)\n",
        "print(\"\\nPivot Table (Mean Sulphates by Quality and Citric Acid):\")\n",
        "print(pivot_table)"
      ],
      "metadata": {
        "colab": {
          "base_uri": "https://localhost:8080/"
        },
        "id": "Nsh7r068nMk8",
        "outputId": "b0e84dbf-f685-4af3-f58a-7d61ef463e0b"
      },
      "execution_count": 5,
      "outputs": [
        {
          "output_type": "stream",
          "name": "stdout",
          "text": [
            "Grouped Data (Average Alcohol by Quality):\n",
            "quality\n",
            "3    11.624750\n",
            "4    11.553267\n",
            "5    10.371093\n",
            "6    10.646033\n",
            "7    11.619100\n",
            "8    11.595200\n",
            "9    11.632567\n",
            "Name: alcohol, dtype: float64\n",
            "\n",
            "Pivot Table (Mean Sulphates by Quality and Citric Acid):\n",
            "citric_acid      0.00      0.01      0.02      0.03      0.04      0.05  \\\n",
            "quality                                                                   \n",
            "3            0.483333       NaN  0.560000       NaN       NaN  0.535000   \n",
            "4            0.489375  0.580000  0.617500  0.482500  0.466667  0.440000   \n",
            "5            0.559355  0.547333  0.588889  0.505556  0.551053  0.532500   \n",
            "6            0.645968  0.561250  0.601429  0.597143  0.634615  0.605556   \n",
            "7            0.668750  0.662500  0.732500  0.560000  0.620000       NaN   \n",
            "8                 NaN       NaN       NaN  0.820000  0.330000  0.820000   \n",
            "9                 NaN       NaN       NaN       NaN       NaN       NaN   \n",
            "\n",
            "citric_acid     0.06      0.07      0.08      0.09  ...      1.50      1.51  \\\n",
            "quality                                             ...                       \n",
            "3                NaN       NaN       NaN       NaN  ...  1.274000  1.325000   \n",
            "4            0.53500  0.450000  0.510000  0.560000  ...  1.361667  1.075714   \n",
            "5            0.51375  0.511667  0.528235  0.538333  ...       NaN       NaN   \n",
            "6            0.64100  0.619231  0.632000  0.557857  ...       NaN       NaN   \n",
            "7            0.59000  0.680000  0.785000  0.666000  ...  1.435000       NaN   \n",
            "8                NaN       NaN       NaN  0.740000  ...       NaN  1.215556   \n",
            "9                NaN       NaN       NaN       NaN  ...  1.174000  1.410000   \n",
            "\n",
            "citric_acid   1.52   1.53      1.54   1.55  1.57  1.58  1.59  1.66  \n",
            "quality                                                             \n",
            "3            1.165    NaN  1.280000    NaN   NaN   NaN   NaN   NaN  \n",
            "4              NaN  1.090  1.420000    NaN   NaN  1.17   NaN   NaN  \n",
            "5            1.180    NaN       NaN  1.240   NaN   NaN   NaN   NaN  \n",
            "6              NaN    NaN       NaN    NaN   NaN   NaN   NaN  0.55  \n",
            "7              NaN  1.470  1.160000    NaN  1.02   NaN   NaN   NaN  \n",
            "8            1.350  1.265       NaN  1.130   NaN   NaN  1.41   NaN  \n",
            "9            1.670    NaN  1.163333  1.408   NaN   NaN   NaN   NaN  \n",
            "\n",
            "[7 rows x 160 columns]\n"
          ]
        }
      ]
    },
    {
      "cell_type": "code",
      "source": [],
      "metadata": {
        "id": "maQ9aK3AnMiu"
      },
      "execution_count": null,
      "outputs": []
    },
    {
      "cell_type": "code",
      "source": [],
      "metadata": {
        "id": "iNUwY_gNoJW3"
      },
      "execution_count": null,
      "outputs": []
    },
    {
      "cell_type": "code",
      "source": [],
      "metadata": {
        "id": "j4JrPDmRoJTa"
      },
      "execution_count": null,
      "outputs": []
    }
  ]
}